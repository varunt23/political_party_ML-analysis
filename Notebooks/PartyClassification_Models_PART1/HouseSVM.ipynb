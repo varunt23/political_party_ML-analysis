{
 "cells": [
  {
   "cell_type": "markdown",
   "metadata": {},
   "source": [
    "# # Linear SVM performed on House of Reps Data\n"
   ]
  },
  {
   "cell_type": "code",
   "execution_count": 1,
   "metadata": {},
   "outputs": [],
   "source": [
    "\n",
    "import pandas as pd\n"
   ]
  },
  {
   "cell_type": "code",
   "execution_count": 2,
   "metadata": {},
   "outputs": [],
   "source": [
    "data = pd.read_csv(r\"CleanDemRepHouse(1).csv\")"
   ]
  },
  {
   "cell_type": "code",
   "execution_count": 5,
   "metadata": {},
   "outputs": [
    {
     "data": {
      "text/plain": [
       "159631"
      ]
     },
     "execution_count": 5,
     "metadata": {},
     "output_type": "execute_result"
    }
   ],
   "source": [
    "data.head(5)\n",
    "len(data)"
   ]
  },
  {
   "cell_type": "code",
   "execution_count": 4,
   "metadata": {},
   "outputs": [],
   "source": [
    "from sklearn.model_selection import train_test_split"
   ]
  },
  {
   "cell_type": "code",
   "execution_count": 5,
   "metadata": {},
   "outputs": [],
   "source": [
    "X_train,X_test,y_train,y_test = train_test_split(data,list(data['party'].values),test_size=0.3)"
   ]
  },
  {
   "cell_type": "code",
   "execution_count": 6,
   "metadata": {},
   "outputs": [
    {
     "name": "stdout",
     "output_type": "stream",
     "text": [
      "(111741, 3) (47890, 3)\n",
      "159631\n"
     ]
    },
    {
     "data": {
      "text/html": [
       "<div>\n",
       "<style scoped>\n",
       "    .dataframe tbody tr th:only-of-type {\n",
       "        vertical-align: middle;\n",
       "    }\n",
       "\n",
       "    .dataframe tbody tr th {\n",
       "        vertical-align: top;\n",
       "    }\n",
       "\n",
       "    .dataframe thead th {\n",
       "        text-align: right;\n",
       "    }\n",
       "</style>\n",
       "<table border=\"1\" class=\"dataframe\">\n",
       "  <thead>\n",
       "    <tr style=\"text-align: right;\">\n",
       "      <th></th>\n",
       "      <th>TweetId</th>\n",
       "      <th>CleanText</th>\n",
       "      <th>party</th>\n",
       "    </tr>\n",
       "  </thead>\n",
       "  <tbody>\n",
       "    <tr>\n",
       "      <td>22213</td>\n",
       "      <td>1.129101e+18</td>\n",
       "      <td>great meeting indiana egg producers familyowne...</td>\n",
       "      <td>republican</td>\n",
       "    </tr>\n",
       "    <tr>\n",
       "      <td>7887</td>\n",
       "      <td>1.124411e+18</td>\n",
       "      <td>addition job growth economy putting money fami...</td>\n",
       "      <td>republican</td>\n",
       "    </tr>\n",
       "    <tr>\n",
       "      <td>105364</td>\n",
       "      <td>1.058485e+18</td>\n",
       "      <td>see tomorrow ucf excited join carlosgsmith ann...</td>\n",
       "      <td>democrat</td>\n",
       "    </tr>\n",
       "    <tr>\n",
       "      <td>39855</td>\n",
       "      <td>7.326110e+17</td>\n",
       "      <td>thank gold star moms work ensure record rememb...</td>\n",
       "      <td>republican</td>\n",
       "    </tr>\n",
       "    <tr>\n",
       "      <td>71316</td>\n",
       "      <td>1.179061e+18</td>\n",
       "      <td>someone know suffering suicidal thoughts pleas...</td>\n",
       "      <td>republican</td>\n",
       "    </tr>\n",
       "  </tbody>\n",
       "</table>\n",
       "</div>"
      ],
      "text/plain": [
       "             TweetId                                          CleanText  \\\n",
       "22213   1.129101e+18  great meeting indiana egg producers familyowne...   \n",
       "7887    1.124411e+18  addition job growth economy putting money fami...   \n",
       "105364  1.058485e+18  see tomorrow ucf excited join carlosgsmith ann...   \n",
       "39855   7.326110e+17  thank gold star moms work ensure record rememb...   \n",
       "71316   1.179061e+18  someone know suffering suicidal thoughts pleas...   \n",
       "\n",
       "             party  \n",
       "22213   republican  \n",
       "7887    republican  \n",
       "105364    democrat  \n",
       "39855   republican  \n",
       "71316   republican  "
      ]
     },
     "execution_count": 6,
     "metadata": {},
     "output_type": "execute_result"
    }
   ],
   "source": [
    "print(X_train.shape,X_test.shape)\n",
    "print(len(data))\n",
    "\n",
    "X_train.head()\n"
   ]
  },
  {
   "cell_type": "code",
   "execution_count": 7,
   "metadata": {},
   "outputs": [],
   "source": [
    "from sklearn.feature_extraction.text import TfidfVectorizer# Create feature vectors\n",
    "vectorizer = TfidfVectorizer(min_df = 5,\n",
    "                             max_df = 0.8,\n",
    "                             sublinear_tf = True,\n",
    "                             use_idf = True)\n",
    "train_vectors = vectorizer.fit_transform(X_train['CleanText'].values.astype('U'))\n",
    "test_vectors = vectorizer.transform(X_test['CleanText'].values.astype('U'))"
   ]
  },
  {
   "cell_type": "code",
   "execution_count": 8,
   "metadata": {},
   "outputs": [
    {
     "name": "stdout",
     "output_type": "stream",
     "text": [
      "Training time: 7066.292314s; Prediction time: 1385.635303s\n",
      "Demorcrat:  {'precision': 0.827235445480862, 'recall': 0.8228354329134173, 'f1-score': 0.8250295727489624, 'support': 25005}\n",
      "Republican:  {'precision': 0.8075419237118776, 'recall': 0.8122350884859078, 'f1-score': 0.8098817070779687, 'support': 22885}\n"
     ]
    }
   ],
   "source": [
    "import time\n",
    "from sklearn import svm\n",
    "from sklearn.metrics import classification_report# Perform classification with SVM, kernel=linear\n",
    "classifier_linear = svm.SVC(kernel='linear')\n",
    "t0 = time.time()\n",
    "classifier_linear.fit(train_vectors, X_train['party'])\n",
    "t1 = time.time()\n",
    "prediction_linear = classifier_linear.predict(test_vectors) \n",
    "t2 = time.time()\n",
    "time_linear_train = t1-t0 \n",
    "time_linear_predict = t2-t1# results\n",
    "print(\"Training time: %fs; Prediction time: %fs\" % (time_linear_train, time_linear_predict))\n",
    "report = classification_report(X_test['party'], prediction_linear, output_dict=True)\n",
    "print('Demorcrat: ', report['democrat'])\n",
    "print('Republican: ', report['republican'])"
   ]
  },
  {
   "cell_type": "code",
   "execution_count": 16,
   "metadata": {},
   "outputs": [
    {
     "name": "stdout",
     "output_type": "stream",
     "text": [
      "              precision    recall  f1-score   support\n",
      "\n",
      "    democrat       0.83      0.82      0.83     25005\n",
      "  republican       0.81      0.81      0.81     22885\n",
      "\n",
      "    accuracy                           0.82     47890\n",
      "   macro avg       0.82      0.82      0.82     47890\n",
      "weighted avg       0.82      0.82      0.82     47890\n",
      "\n",
      "['republican']\n"
     ]
    }
   ],
   "source": [
    "print(classification_report(y_test, prediction_linear))\n",
    "\n",
    "tweet = \"\"\"i hate democrats\"\"\"\n",
    "review_vector = vectorizer.transform([tweet]) # vectorizing\n",
    "print(classifier_linear.predict(review_vector))"
   ]
  },
  {
   "cell_type": "code",
   "execution_count": 10,
   "metadata": {},
   "outputs": [
    {
     "data": {
      "text/plain": [
       "14079"
      ]
     },
     "execution_count": 10,
     "metadata": {},
     "output_type": "execute_result"
    }
   ],
   "source": [
    "6458+7621"
   ]
  },
  {
   "cell_type": "code",
   "execution_count": 11,
   "metadata": {},
   "outputs": [
    {
     "data": {
      "text/plain": [
       "70.03333333333333"
      ]
     },
     "execution_count": 11,
     "metadata": {},
     "output_type": "execute_result"
    }
   ],
   "source": [
    "4202/60\n"
   ]
  },
  {
   "cell_type": "code",
   "execution_count": 60,
   "metadata": {},
   "outputs": [
    {
     "name": "stdout",
     "output_type": "stream",
     "text": [
      "  (0, 2035)\t0.26589118569422526\n",
      "  (0, 3001)\t0.2859258113042622\n",
      "  (0, 3556)\t0.40000514005372506\n",
      "  (0, 5821)\t0.21623915974882613\n",
      "  (0, 8148)\t0.3169337359389403\n",
      "  (0, 8329)\t0.1852179605151742\n",
      "  (0, 11390)\t0.2053982439536925\n",
      "  (0, 12285)\t0.25447748837084055\n",
      "  (0, 14508)\t0.23598472041673074\n",
      "  (0, 15252)\t0.3239573299553907\n",
      "  (0, 17617)\t0.19784363355798956\n",
      "  (0, 18245)\t0.2101393333681478\n",
      "  (0, 18392)\t0.1398466647260231\n",
      "  (0, 19257)\t0.32049724416083913\n",
      "  (0, 19524)\t0.18130512712530253\n",
      "['republican']\n"
     ]
    }
   ],
   "source": [
    "tweet = \"\"\"The Republican Party has never been so united! This Impeachment Scam is just a continuation of the 3 year Witch Hunt, but it is only bringing us even closer together!\"\"\"\n",
    "print(review_vector)\n",
    "review_vector = vectorizer.transform([tweet])\n",
    "print(classifier_linear.predict(review_vector))\n",
    " \n"
   ]
  }
 ],
 "metadata": {
  "kernelspec": {
   "display_name": "Python 3",
   "language": "python",
   "name": "python3"
  },
  "language_info": {
   "codemirror_mode": {
    "name": "ipython",
    "version": 3
   },
   "file_extension": ".py",
   "mimetype": "text/x-python",
   "name": "python",
   "nbconvert_exporter": "python",
   "pygments_lexer": "ipython3",
   "version": "3.7.4"
  }
 },
 "nbformat": 4,
 "nbformat_minor": 2
}
