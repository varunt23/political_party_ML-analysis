{
 "cells": [
  {
   "cell_type": "markdown",
   "metadata": {},
   "source": [
    "\n",
    "# Linear SVM performed on Senate Data"
   ]
  },
  {
   "cell_type": "code",
   "execution_count": 1,
   "metadata": {},
   "outputs": [],
   "source": [
    "\n",
    "import pandas as pd\n"
   ]
  },
  {
   "cell_type": "code",
   "execution_count": 2,
   "metadata": {},
   "outputs": [],
   "source": [
    "data = pd.read_csv(R\"CleanDemRepSen.csv\")"
   ]
  },
  {
   "cell_type": "code",
   "execution_count": 3,
   "metadata": {},
   "outputs": [
    {
     "data": {
      "text/html": [
       "<div>\n",
       "<style scoped>\n",
       "    .dataframe tbody tr th:only-of-type {\n",
       "        vertical-align: middle;\n",
       "    }\n",
       "\n",
       "    .dataframe tbody tr th {\n",
       "        vertical-align: top;\n",
       "    }\n",
       "\n",
       "    .dataframe thead th {\n",
       "        text-align: right;\n",
       "    }\n",
       "</style>\n",
       "<table border=\"1\" class=\"dataframe\">\n",
       "  <thead>\n",
       "    <tr style=\"text-align: right;\">\n",
       "      <th></th>\n",
       "      <th>TweetId</th>\n",
       "      <th>CleanText</th>\n",
       "      <th>party</th>\n",
       "    </tr>\n",
       "  </thead>\n",
       "  <tbody>\n",
       "    <tr>\n",
       "      <td>0</td>\n",
       "      <td>1198374984902676480</td>\n",
       "      <td>approval rate republican party record thank</td>\n",
       "      <td>republican</td>\n",
       "    </tr>\n",
       "    <tr>\n",
       "      <td>1</td>\n",
       "      <td>1198370028153950209</td>\n",
       "      <td>thank kevin nice words https</td>\n",
       "      <td>republican</td>\n",
       "    </tr>\n",
       "    <tr>\n",
       "      <td>2</td>\n",
       "      <td>1198334870738604033</td>\n",
       "      <td>sondland said trump told none move needle anyo...</td>\n",
       "      <td>republican</td>\n",
       "    </tr>\n",
       "    <tr>\n",
       "      <td>3</td>\n",
       "      <td>1198328606684012544</td>\n",
       "      <td>direct evidence president trump anything impea...</td>\n",
       "      <td>republican</td>\n",
       "    </tr>\n",
       "    <tr>\n",
       "      <td>4</td>\n",
       "      <td>1198328568838840322</td>\n",
       "      <td>new york post editorial worse pointless hours ...</td>\n",
       "      <td>republican</td>\n",
       "    </tr>\n",
       "  </tbody>\n",
       "</table>\n",
       "</div>"
      ],
      "text/plain": [
       "               TweetId                                          CleanText  \\\n",
       "0  1198374984902676480        approval rate republican party record thank   \n",
       "1  1198370028153950209                       thank kevin nice words https   \n",
       "2  1198334870738604033  sondland said trump told none move needle anyo...   \n",
       "3  1198328606684012544  direct evidence president trump anything impea...   \n",
       "4  1198328568838840322  new york post editorial worse pointless hours ...   \n",
       "\n",
       "        party  \n",
       "0  republican  \n",
       "1  republican  \n",
       "2  republican  \n",
       "3  republican  \n",
       "4  republican  "
      ]
     },
     "execution_count": 3,
     "metadata": {},
     "output_type": "execute_result"
    }
   ],
   "source": [
    "data.head(5)"
   ]
  },
  {
   "cell_type": "code",
   "execution_count": 4,
   "metadata": {},
   "outputs": [],
   "source": [
    "from sklearn.model_selection import train_test_split"
   ]
  },
  {
   "cell_type": "code",
   "execution_count": 5,
   "metadata": {},
   "outputs": [],
   "source": [
    "X_train,X_test,y_train,y_test = train_test_split(data,list(data['party'].values),test_size=0.3)"
   ]
  },
  {
   "cell_type": "code",
   "execution_count": 6,
   "metadata": {},
   "outputs": [
    {
     "name": "stdout",
     "output_type": "stream",
     "text": [
      "(32850, 3) (14079, 3)\n",
      "46929\n"
     ]
    },
    {
     "data": {
      "text/html": [
       "<div>\n",
       "<style scoped>\n",
       "    .dataframe tbody tr th:only-of-type {\n",
       "        vertical-align: middle;\n",
       "    }\n",
       "\n",
       "    .dataframe tbody tr th {\n",
       "        vertical-align: top;\n",
       "    }\n",
       "\n",
       "    .dataframe thead th {\n",
       "        text-align: right;\n",
       "    }\n",
       "</style>\n",
       "<table border=\"1\" class=\"dataframe\">\n",
       "  <thead>\n",
       "    <tr style=\"text-align: right;\">\n",
       "      <th></th>\n",
       "      <th>TweetId</th>\n",
       "      <th>CleanText</th>\n",
       "      <th>party</th>\n",
       "    </tr>\n",
       "  </thead>\n",
       "  <tbody>\n",
       "    <tr>\n",
       "      <td>4724</td>\n",
       "      <td>1177631737435709440</td>\n",
       "      <td>victor orban embraced autocracy antidemocratic...</td>\n",
       "      <td>republican</td>\n",
       "    </tr>\n",
       "    <tr>\n",
       "      <td>4548</td>\n",
       "      <td>1192157273784803328</td>\n",
       "      <td>glad see district court blocked president trum...</td>\n",
       "      <td>republican</td>\n",
       "    </tr>\n",
       "    <tr>\n",
       "      <td>31913</td>\n",
       "      <td>1179515886257881088</td>\n",
       "      <td>get distracted republicans going attack whistl...</td>\n",
       "      <td>democrat</td>\n",
       "    </tr>\n",
       "    <tr>\n",
       "      <td>23368</td>\n",
       "      <td>1149048536635457536</td>\n",
       "      <td>really excited bipartisan bill supporting men ...</td>\n",
       "      <td>republican</td>\n",
       "    </tr>\n",
       "    <tr>\n",
       "      <td>20549</td>\n",
       "      <td>1187461281974050821</td>\n",
       "      <td>taxpayers foot bill lavish travel federal offi...</td>\n",
       "      <td>republican</td>\n",
       "    </tr>\n",
       "  </tbody>\n",
       "</table>\n",
       "</div>"
      ],
      "text/plain": [
       "                   TweetId                                          CleanText  \\\n",
       "4724   1177631737435709440  victor orban embraced autocracy antidemocratic...   \n",
       "4548   1192157273784803328  glad see district court blocked president trum...   \n",
       "31913  1179515886257881088  get distracted republicans going attack whistl...   \n",
       "23368  1149048536635457536  really excited bipartisan bill supporting men ...   \n",
       "20549  1187461281974050821  taxpayers foot bill lavish travel federal offi...   \n",
       "\n",
       "            party  \n",
       "4724   republican  \n",
       "4548   republican  \n",
       "31913    democrat  \n",
       "23368  republican  \n",
       "20549  republican  "
      ]
     },
     "execution_count": 6,
     "metadata": {},
     "output_type": "execute_result"
    }
   ],
   "source": [
    "print(X_train.shape,X_test.shape)\n",
    "print(len(data))\n",
    "\n",
    "X_train.head()\n"
   ]
  },
  {
   "cell_type": "code",
   "execution_count": 7,
   "metadata": {},
   "outputs": [],
   "source": [
    "from sklearn.feature_extraction.text import TfidfVectorizer# Create feature vectors\n",
    "vectorizer = TfidfVectorizer(min_df = 5,\n",
    "                             max_df = 0.8,\n",
    "                             sublinear_tf = True,\n",
    "                             use_idf = True)\n",
    "train_vectors = vectorizer.fit_transform(X_train['CleanText'])\n",
    "test_vectors = vectorizer.transform(X_test['CleanText'])"
   ]
  },
  {
   "cell_type": "code",
   "execution_count": 8,
   "metadata": {},
   "outputs": [
    {
     "name": "stdout",
     "output_type": "stream",
     "text": [
      "Training time: 614.949050s; Prediction time: 163.439055s\n",
      "Demorcrat:  {'precision': 0.25217207035388856, 'recall': 0.1854160174509193, 'f1-score': 0.21370207416719045, 'support': 6418}\n",
      "Republican:  {'precision': 0.44145299145299144, 'recall': 0.5393551755645477, 'f1-score': 0.485517889665707, 'support': 7661}\n"
     ]
    }
   ],
   "source": [
    "import time\n",
    "from sklearn import svm\n",
    "from sklearn.metrics import classification_report# Perform classification with SVM, kernel=linear\n",
    "classifier_linear = svm.SVC(kernel='linear')\n",
    "t0 = time.time()\n",
    "classifier_linear.fit(train_vectors, X_train['party'])\n",
    "t1 = time.time()\n",
    "prediction_linear = classifier_linear.predict(test_vectors)\n",
    "t2 = time.time()\n",
    "time_linear_train = t1-t0 \n",
    "time_linear_predict = t2-t1# results\n",
    "print(\"Training time: %fs; Prediction time: %fs\" % (time_linear_train, time_linear_predict))\n",
    "report = classification_report(X_test['party'], prediction_linear, output_dict=True)\n",
    "print('Demorcrat: ', report['democrat'])\n",
    "print('Republican: ', report['republican'])"
   ]
  },
  {
   "cell_type": "code",
   "execution_count": 11,
   "metadata": {},
   "outputs": [
    {
     "name": "stdout",
     "output_type": "stream",
     "text": [
      "              precision    recall  f1-score   support\n",
      "\n",
      "    democrat       0.25      0.19      0.21      6418\n",
      "  republican       0.44      0.54      0.49      7661\n",
      "\n",
      "    accuracy                           0.38     14079\n",
      "   macro avg       0.35      0.36      0.35     14079\n",
      "weighted avg       0.36      0.38      0.36     14079\n",
      "\n",
      "['republican']\n"
     ]
    }
   ],
   "source": [
    "print(classification_report(y_test, prediction_linear))\n",
    "\n"
   ]
  },
  {
   "cell_type": "code",
   "execution_count": 21,
   "metadata": {},
   "outputs": [
    {
     "name": "stdout",
     "output_type": "stream",
     "text": [
      "['republican']\n"
     ]
    }
   ],
   "source": [
    "tweet = \"\"\"prisons should be for profit\"\"\"\n",
    "review_vector = vectorizer.transform([tweet])\n",
    "print(classifier_linear.predict(review_vector))\n"
   ]
  },
  {
   "cell_type": "code",
   "execution_count": 22,
   "metadata": {},
   "outputs": [
    {
     "name": "stdout",
     "output_type": "stream",
     "text": [
      "['republican']\n"
     ]
    }
   ],
   "source": [
    "tweet = \"\"\"i hate democrats\"\"\"\n",
    "review_vector = vectorizer.transform([tweet])\n",
    "print(classifier_linear.predict(review_vector))\n"
   ]
  }
 ],
 "metadata": {
  "kernelspec": {
   "display_name": "Python 3",
   "language": "python",
   "name": "python3"
  },
  "language_info": {
   "codemirror_mode": {
    "name": "ipython",
    "version": 3
   },
   "file_extension": ".py",
   "mimetype": "text/x-python",
   "name": "python",
   "nbconvert_exporter": "python",
   "pygments_lexer": "ipython3",
   "version": "3.7.4"
  }
 },
 "nbformat": 4,
 "nbformat_minor": 2
}
